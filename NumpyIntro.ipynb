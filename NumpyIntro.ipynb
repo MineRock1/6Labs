{
  "nbformat": 4,
  "nbformat_minor": 0,
  "metadata": {
    "colab": {
      "name": "NumpyIntro.ipynb",
      "provenance": [],
      "collapsed_sections": []
    },
    "kernelspec": {
      "name": "python3",
      "display_name": "Python 3"
    },
    "language_info": {
      "name": "python"
    }
  },
  "cells": [
    {
      "cell_type": "markdown",
      "metadata": {
        "id": "NzV6MkAmKE4n"
      },
      "source": [
        "### **1. Створити двомірний нульовий масив розміром 11х11 та заповнити його діагоналі одиницями.**\n",
        "\n",
        "```\n",
        "# Выбран кодовый формат\n",
        "```\n",
        "\n"
      ]
    },
    {
      "cell_type": "code",
      "metadata": {
        "id": "Do2pZrjTIuow"
      },
      "source": [
        "import numpy as np\n",
        "import cv2"
      ],
      "execution_count": null,
      "outputs": []
    },
    {
      "cell_type": "code",
      "metadata": {
        "colab": {
          "base_uri": "https://localhost:8080/"
        },
        "id": "Kzp7_yDgIzvE",
        "outputId": "d6d00f5d-ae2e-4ff0-84c6-fdbfcbfa15a2"
      },
      "source": [
        "array = np.zeros((11,11))\n",
        "print(array)"
      ],
      "execution_count": null,
      "outputs": [
        {
          "output_type": "stream",
          "text": [
            "[[0. 0. 0. 0. 0. 0. 0. 0. 0. 0. 0.]\n",
            " [0. 0. 0. 0. 0. 0. 0. 0. 0. 0. 0.]\n",
            " [0. 0. 0. 0. 0. 0. 0. 0. 0. 0. 0.]\n",
            " [0. 0. 0. 0. 0. 0. 0. 0. 0. 0. 0.]\n",
            " [0. 0. 0. 0. 0. 0. 0. 0. 0. 0. 0.]\n",
            " [0. 0. 0. 0. 0. 0. 0. 0. 0. 0. 0.]\n",
            " [0. 0. 0. 0. 0. 0. 0. 0. 0. 0. 0.]\n",
            " [0. 0. 0. 0. 0. 0. 0. 0. 0. 0. 0.]\n",
            " [0. 0. 0. 0. 0. 0. 0. 0. 0. 0. 0.]\n",
            " [0. 0. 0. 0. 0. 0. 0. 0. 0. 0. 0.]\n",
            " [0. 0. 0. 0. 0. 0. 0. 0. 0. 0. 0.]]\n"
          ],
          "name": "stdout"
        }
      ]
    },
    {
      "cell_type": "code",
      "metadata": {
        "id": "x22lesmcJbOu"
      },
      "source": [
        "for i in range(11):\n",
        "\tfor j in range(11):\n",
        "\t\tif (i==j):\n",
        "\t\t\tarray[i][j] = 1\n",
        "\t\telif ( i+j ==10):\n",
        "\t\t\tarray[i][j] = 1"
      ],
      "execution_count": null,
      "outputs": []
    },
    {
      "cell_type": "code",
      "metadata": {
        "colab": {
          "base_uri": "https://localhost:8080/"
        },
        "id": "Ai4sU-QAJxs0",
        "outputId": "b4f55441-f4c2-473d-ed3c-a4bfae9e98d8"
      },
      "source": [
        "print(array)"
      ],
      "execution_count": null,
      "outputs": [
        {
          "output_type": "stream",
          "text": [
            "[[1. 0. 0. 0. 0. 0. 0. 0. 0. 0. 1.]\n",
            " [0. 1. 0. 0. 0. 0. 0. 0. 0. 1. 0.]\n",
            " [0. 0. 1. 0. 0. 0. 0. 0. 1. 0. 0.]\n",
            " [0. 0. 0. 1. 0. 0. 0. 1. 0. 0. 0.]\n",
            " [0. 0. 0. 0. 1. 0. 1. 0. 0. 0. 0.]\n",
            " [0. 0. 0. 0. 0. 1. 0. 0. 0. 0. 0.]\n",
            " [0. 0. 0. 0. 1. 0. 1. 0. 0. 0. 0.]\n",
            " [0. 0. 0. 1. 0. 0. 0. 1. 0. 0. 0.]\n",
            " [0. 0. 1. 0. 0. 0. 0. 0. 1. 0. 0.]\n",
            " [0. 1. 0. 0. 0. 0. 0. 0. 0. 1. 0.]\n",
            " [1. 0. 0. 0. 0. 0. 0. 0. 0. 0. 1.]]\n"
          ],
          "name": "stdout"
        }
      ]
    },
    {
      "cell_type": "markdown",
      "metadata": {
        "id": "ZPiRpqrPKhry"
      },
      "source": [
        "## **2. Засобами NumPy створити вертикальні та горизонтальні зображення градієнту в обидва боки (поступове збільшення яскравості на зображенні).**"
      ]
    },
    {
      "cell_type": "code",
      "metadata": {
        "id": "t-JahepBKk-Y"
      },
      "source": [
        "horiz_grad = np.zeros((255,255))"
      ],
      "execution_count": null,
      "outputs": []
    },
    {
      "cell_type": "code",
      "metadata": {
        "colab": {
          "base_uri": "https://localhost:8080/"
        },
        "id": "8hP2Fmq4K9lg",
        "outputId": "ac7b7b3d-140e-464d-80c6-9113e76625da"
      },
      "source": [
        "w = horiz_grad.shape[1]\n",
        "h = horiz_grad.shape[0]\n",
        "\n",
        "print(w)\n",
        "print(h)"
      ],
      "execution_count": null,
      "outputs": [
        {
          "output_type": "stream",
          "text": [
            "255\n",
            "255\n"
          ],
          "name": "stdout"
        }
      ]
    },
    {
      "cell_type": "code",
      "metadata": {
        "colab": {
          "base_uri": "https://localhost:8080/"
        },
        "id": "dv30YHBqL4EF",
        "outputId": "392a312f-46b2-4d2e-e351-bb7fc0e00678"
      },
      "source": [
        "for i in range(w):\n",
        "    for j in range(h):\n",
        "        horiz_grad[j][i] = horiz_grad[j][i] + j\n",
        "\n",
        "print(horiz_grad)"
      ],
      "execution_count": null,
      "outputs": [
        {
          "output_type": "stream",
          "text": [
            "[[  0.   1.   2. ... 252. 253. 254.]\n",
            " [  1.   1.   2. ... 252. 253. 254.]\n",
            " [  2.   3.   2. ... 252. 253. 254.]\n",
            " ...\n",
            " [252. 253. 254. ... 252. 253. 254.]\n",
            " [253. 254. 255. ... 505. 253. 254.]\n",
            " [254. 255. 256. ... 506. 507. 254.]]\n"
          ],
          "name": "stdout"
        }
      ]
    },
    {
      "cell_type": "code",
      "metadata": {
        "colab": {
          "base_uri": "https://localhost:8080/"
        },
        "id": "ZFsXoKOlUduc",
        "outputId": "a4a8832b-e99a-4fba-d27b-690a0315dff8"
      },
      "source": [
        "cv2.imwrite('horiz_grad.jpg', horiz_grad)"
      ],
      "execution_count": null,
      "outputs": [
        {
          "output_type": "execute_result",
          "data": {
            "text/plain": [
              "True"
            ]
          },
          "metadata": {
            "tags": []
          },
          "execution_count": 34
        }
      ]
    },
    {
      "cell_type": "markdown",
      "metadata": {
        "id": "ZhPlLN6_UnJW"
      },
      "source": [
        " **2.5 Аналогічно створити горизонтальний градієнт в інший бік**"
      ]
    },
    {
      "cell_type": "code",
      "metadata": {
        "id": "GVxIbhgjUr_0"
      },
      "source": [
        "horiz_grad_reverse = np.full((255,255), 255)\n",
        "\n",
        "w = horiz_grad_reverse.shape[1]\n",
        "h = horiz_grad_reverse.shape[0]\n",
        "for i in range(w):\n",
        "    for j in range(h):\n",
        "        horiz_grad_reverse[j][i] = horiz_grad_reverse[j][i] - j"
      ],
      "execution_count": null,
      "outputs": []
    },
    {
      "cell_type": "code",
      "metadata": {
        "colab": {
          "base_uri": "https://localhost:8080/"
        },
        "id": "vvGHw3MjVK9O",
        "outputId": "b667cccc-d956-44ef-874f-a3a861182be9"
      },
      "source": [
        "cv2.imwrite('horiz_grad_reverse.jpg', horiz_grad_reverse)"
      ],
      "execution_count": null,
      "outputs": [
        {
          "output_type": "execute_result",
          "data": {
            "text/plain": [
              "True"
            ]
          },
          "metadata": {
            "tags": []
          },
          "execution_count": 36
        }
      ]
    },
    {
      "cell_type": "markdown",
      "metadata": {
        "id": "3OvCUF4lVw6T"
      },
      "source": [
        "# **Вертикальний градієнт**"
      ]
    },
    {
      "cell_type": "code",
      "metadata": {
        "id": "1rH1-bDHVzjK"
      },
      "source": [
        "vert_grad = np.zeros((255,255))\n",
        "\n",
        "w = vert_grad.shape[1]\n",
        "h = vert_grad.shape[0]\n",
        "for i in range(w):\n",
        "    for j in range(h):\n",
        "        vert_grad[i][j] = vert_grad[i][j] + j"
      ],
      "execution_count": null,
      "outputs": []
    },
    {
      "cell_type": "code",
      "metadata": {
        "colab": {
          "base_uri": "https://localhost:8080/"
        },
        "id": "xckktOySWQCZ",
        "outputId": "3118ccf8-a687-4f7b-8b65-8b11d516c7d4"
      },
      "source": [
        "cv2.imwrite('vert_grad.jpg', vert_grad)"
      ],
      "execution_count": null,
      "outputs": [
        {
          "output_type": "execute_result",
          "data": {
            "text/plain": [
              "True"
            ]
          },
          "metadata": {
            "tags": []
          },
          "execution_count": 38
        }
      ]
    },
    {
      "cell_type": "markdown",
      "metadata": {
        "id": "IfWmvwviWVKS"
      },
      "source": [
        "**Вертикальний градієнт reverse**"
      ]
    },
    {
      "cell_type": "code",
      "metadata": {
        "id": "L05eZHgPWaxW"
      },
      "source": [
        "vert_grad_reverse = np.full((255,255),255)\n",
        "\n",
        "w = vert_grad_reverse.shape[1]\n",
        "h = vert_grad_reverse.shape[0]\n",
        "for i in range(w):\n",
        "    for j in range(h):\n",
        "        vert_grad_reverse[i][j] = vert_grad_reverse[i][j] - j"
      ],
      "execution_count": null,
      "outputs": []
    },
    {
      "cell_type": "code",
      "metadata": {
        "colab": {
          "base_uri": "https://localhost:8080/"
        },
        "id": "kw3q_2IOWo_z",
        "outputId": "ebdbd793-4225-4155-ec2c-b8e0a9bf4fdb"
      },
      "source": [
        "cv2.imwrite('vert_grad_reverse.jpg', vert_grad_reverse)"
      ],
      "execution_count": null,
      "outputs": [
        {
          "output_type": "execute_result",
          "data": {
            "text/plain": [
              "True"
            ]
          },
          "metadata": {
            "tags": []
          },
          "execution_count": 42
        }
      ]
    }
  ]
}